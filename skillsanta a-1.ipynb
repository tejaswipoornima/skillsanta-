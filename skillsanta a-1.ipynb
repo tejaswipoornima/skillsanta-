{
 "cells": [
  {
   "cell_type": "markdown",
   "metadata": {},
   "source": [
    "### 1.Python Program to Find the Largest Number in a List"
   ]
  },
  {
   "cell_type": "code",
   "execution_count": 2,
   "metadata": {},
   "outputs": [
    {
     "name": "stdout",
     "output_type": "stream",
     "text": [
      "enter a list:1 5 7 8 \n",
      "largest number in the given list: 8\n"
     ]
    }
   ],
   "source": [
    "l=list(map(int,input(\"enter list:\").split()))\n",
    "print(\"largest number in the given list:\",max(l))"
   ]
  },
  {
   "cell_type": "markdown",
   "metadata": {},
   "source": [
    "### 2.Python Program to Find the Second Largest Number in a List"
   ]
  },
  {
   "cell_type": "code",
   "execution_count": 1,
   "metadata": {},
   "outputs": [
    {
     "name": "stdout",
     "output_type": "stream",
     "text": [
      "enter a list:2 5 3 7\n",
      "the second largest number in the given list is: 5\n"
     ]
    }
   ],
   "source": [
    "l=list(map(int,input(\"enter list:\").split()))\n",
    "l=sorted(l)\n",
    "print('the second largest number in the given list is:',l[-2])"
   ]
  },
  {
   "cell_type": "markdown",
   "metadata": {},
   "source": [
    "### 3.Python Program to Merge Two Lists and Sort it"
   ]
  },
  {
   "cell_type": "code",
   "execution_count": 9,
   "metadata": {},
   "outputs": [
    {
     "name": "stdout",
     "output_type": "stream",
     "text": [
      "enter list1:1 2 3 \n",
      "enter list2:4 5  6\n",
      "the merge sort of 2 lists is: [1, 2, 3, 4, 5, 6]\n"
     ]
    }
   ],
   "source": [
    "l1=list(map(int,input(\"enter list1:\").split()))\n",
    "l2=list(map(int,input(\"enter list2:\").split()))\n",
    "print(\"the merge sort of 2 lists is:\",sorted(l1+l2))"
   ]
  },
  {
   "cell_type": "markdown",
   "metadata": {},
   "source": [
    "### 4.Python Program to Swap the First and Last Value of a List"
   ]
  },
  {
   "cell_type": "code",
   "execution_count": 10,
   "metadata": {},
   "outputs": [
    {
     "name": "stdout",
     "output_type": "stream",
     "text": [
      "enter list:1 2 3 \n",
      "[3, 2, 1]\n"
     ]
    }
   ],
   "source": [
    "l=list(map(int,input(\"enter list:\").split()))\n",
    "l[0],l[-1]=l[-1],l[0]\n",
    "print(l)"
   ]
  },
  {
   "cell_type": "code",
   "execution_count": null,
   "metadata": {},
   "outputs": [],
   "source": []
  }
 ],
 "metadata": {
  "kernelspec": {
   "display_name": "Python 3",
   "language": "python",
   "name": "python3"
  },
  "language_info": {
   "codemirror_mode": {
    "name": "ipython",
    "version": 3
   },
   "file_extension": ".py",
   "mimetype": "text/x-python",
   "name": "python",
   "nbconvert_exporter": "python",
   "pygments_lexer": "ipython3",
   "version": "3.8.3"
  }
 },
 "nbformat": 4,
 "nbformat_minor": 4
}
