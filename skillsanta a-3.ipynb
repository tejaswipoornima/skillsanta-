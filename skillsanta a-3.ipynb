{
 "cells": [
  {
   "cell_type": "markdown",
   "metadata": {},
   "source": [
    "# 1.changing the key from city to location"
   ]
  },
  {
   "cell_type": "code",
   "execution_count": 50,
   "metadata": {},
   "outputs": [
    {
     "name": "stdout",
     "output_type": "stream",
     "text": [
      "before changing: {'name': 'sachin', 'age': 22, 'salary': 40000, 'city': 'new delhi'}\n",
      "after changing : {'name': 'sachin', 'age': 22, 'salary': 40000, 'location': 'new delhi'}\n"
     ]
    }
   ],
   "source": [
    "skillsanta_dict ={\"name\":\"sachin\",\"age\":22,\"salary\":40000,\"city\": \"new delhi\"}\n",
    "print(\"before changing:\" ,skillsanta_dict)\n",
    "x=skillsanta_dict.pop(\"city\")\n",
    "skillsanta_dict[\"location\"]=x\n",
    "print(\"after changing :\",skillsanta_dict)"
   ]
  },
  {
   "cell_type": "markdown",
   "metadata": {},
   "source": [
    "# 2.dictionary snowing count of elements"
   ]
  },
  {
   "cell_type": "code",
   "execution_count": 7,
   "metadata": {},
   "outputs": [
    {
     "name": "stdout",
     "output_type": "stream",
     "text": [
      "original list: [1, 1, 2, 2, 19, 39, 19, 39, 20, 23]\n",
      "count of each element : {1: 2, 2: 2, 19: 2, 39: 2, 20: 1, 23: 1}\n"
     ]
    }
   ],
   "source": [
    "x=[1,1,2,2,19,39,19,39,20,23]\n",
    "print(\"original list:\",x)\n",
    "y={}\n",
    "for i in x:\n",
    "    count=0\n",
    "    for j in x:\n",
    "        if(i==j):\n",
    "            count=count+1\n",
    "            y[i]=count\n",
    "print(\"count of each element :\",y)"
   ]
  },
  {
   "cell_type": "markdown",
   "metadata": {},
   "source": [
    "# 3.removing duplicate elements"
   ]
  },
  {
   "cell_type": "code",
   "execution_count": 11,
   "metadata": {},
   "outputs": [
    {
     "name": "stdout",
     "output_type": "stream",
     "text": [
      "original list: [12, 21, 12, 21, 23, 23, 38, 38, 20, 20, 42]\n",
      "unique items: [12, 21, 23, 38, 20, 42]\n",
      "in tuple representations: (12, 21, 23, 38, 20, 42)\n",
      "min: 12\n",
      "max: 42\n"
     ]
    }
   ],
   "source": [
    "x=[12,21,12,21,23,23,38,38,20,20,42]\n",
    "print(\"original list:\",x)\n",
    "for i in x:\n",
    "    count=0\n",
    "    for j in x:\n",
    "        if(i==j):\n",
    "            count=count+1\n",
    "    if count>1:\n",
    "        x.pop(x.index(i))\n",
    "print(\"unique items:\",x)\n",
    "print(\"in tuple representations:\",tuple(x))\n",
    "x.sort()\n",
    "print(\"min:\",x[0])\n",
    "print(\"max:\",x[-1])"
   ]
  },
  {
   "cell_type": "markdown",
   "metadata": {},
   "source": [
    "# 4.function showing employee salary"
   ]
  },
  {
   "cell_type": "code",
   "execution_count": 14,
   "metadata": {},
   "outputs": [
    {
     "name": "stdout",
     "output_type": "stream",
     "text": [
      "employee {} salary: eddy 5000\n",
      "employee {} salary: vidya  5000\n"
     ]
    }
   ],
   "source": [
    "def funemployee(x,y=5000):\n",
    "    print(\"employee {} salary:\",format(x),y)\n",
    "funemployee(\"eddy\",5000)\n",
    "funemployee(\"jasmine \")"
   ]
  },
  {
   "cell_type": "markdown",
   "metadata": {},
   "source": [
    "# 5.summation using inner and outer functions"
   ]
  },
  {
   "cell_type": "code",
   "execution_count": 24,
   "metadata": {},
   "outputs": [
    {
     "name": "stdout",
     "output_type": "stream",
     "text": [
      "final sum: 10\n"
     ]
    }
   ],
   "source": [
    "def outerfun(x,y):\n",
    "    def innerfun(a,b):\n",
    "        sum=a+b\n",
    "        return sum\n",
    "    finalsum=5+innerfun(x,y)\n",
    "    return finalsum \n",
    "sum=outerfun(2,3)\n",
    "print(\"final sum:\",sum)"
   ]
  },
  {
   "cell_type": "markdown",
   "metadata": {},
   "source": [
    "# 6.fibnacci sequence"
   ]
  },
  {
   "cell_type": "code",
   "execution_count": 36,
   "metadata": {},
   "outputs": [
    {
     "name": "stdout",
     "output_type": "stream",
     "text": [
      "fibonacci sequence:\n",
      "0 1 1 2 3 5 8 13 21 34 "
     ]
    }
   ],
   "source": [
    "def recur_fibo(n):\n",
    "    if n<=1:\n",
    "        return n\n",
    "    else:\n",
    "        return(recur_fibo(n-1)+recur_fibo(n-2))\n",
    "nterns=10\n",
    "if nterns<=0:\n",
    "    print(\"please enter a positive integer\")\n",
    "else:\n",
    "    print(\"fibonacci sequence:\")\n",
    "    for i in range(nterns):\n",
    "        print(recur_fibo(i),end=' ')"
   ]
  },
  {
   "cell_type": "markdown",
   "metadata": {},
   "source": [
    "# 7.display name and age"
   ]
  },
  {
   "cell_type": "code",
   "execution_count": 40,
   "metadata": {},
   "outputs": [
    {
     "name": "stdout",
     "output_type": "stream",
     "text": [
      "bhaavs 18\n"
     ]
    }
   ],
   "source": [
    "def displaystudent(name,age):\n",
    "    print(name,age)\n",
    "displaystudent(\"bhaavs\",18)\n",
    "showstudent=displaystudent\n",
    "showstudent=(\"bhaavs\",18)"
   ]
  },
  {
   "cell_type": "markdown",
   "metadata": {},
   "source": [
    "# 8.given number is valid or not"
   ]
  },
  {
   "cell_type": "code",
   "execution_count": 41,
   "metadata": {},
   "outputs": [
    {
     "name": "stdout",
     "output_type": "stream",
     "text": [
      "invalid number\n"
     ]
    }
   ],
   "source": [
    "import re\n",
    "def isvalid(s):\n",
    "    pattern=re.compile(\"(0/91)?[7-9][0-9]{9}\")\n",
    "    return pattern.match(s)\n",
    "s=\"347873923408\"\n",
    "if(isvalid(s)):\n",
    "    print(\"valid number\")\n",
    "else:\n",
    "    print(\"invalid number\")"
   ]
  },
  {
   "cell_type": "markdown",
   "metadata": {},
   "source": [
    "# 9.uppercase and lower case"
   ]
  },
  {
   "cell_type": "code",
   "execution_count": 45,
   "metadata": {},
   "outputs": [
    {
     "name": "stdout",
     "output_type": "stream",
     "text": [
      "original string: The quick Brown Fox\n",
      "no.ofupper case characters : 3\n",
      "no.of lower case characters: 0\n"
     ]
    }
   ],
   "source": [
    "def string_test(s):\n",
    "    d={\"UPPER_CASE\":0,\"LOWER_CASE\":0}\n",
    "    for c in s:\n",
    "        if c.isupper():\n",
    "            d[\"UPPER_CASE\"]+=1\n",
    "        elif c.islower():\n",
    "            d[\"LOWER_CASE\"]+1\n",
    "        else:\n",
    "            pass\n",
    "    print(\"original string:\",s)\n",
    "    print(\"no.ofupper case characters :\",d[\"UPPER_CASE\"])\n",
    "    print(\"no.of lower case characters:\",d[\"LOWER_CASE\"])\n",
    "string_test('The quick Brown Fox')"
   ]
  },
  {
   "cell_type": "markdown",
   "metadata": {},
   "source": [
    "# 10.perfect number."
   ]
  },
  {
   "cell_type": "code",
   "execution_count": 48,
   "metadata": {},
   "outputs": [
    {
     "name": "stdout",
     "output_type": "stream",
     "text": [
      "True\n"
     ]
    }
   ],
   "source": [
    "def perfect_number(n):\n",
    "    sum=0\n",
    "    for x in range(1,n):\n",
    "        if n%x==0:\n",
    "            sum+=x\n",
    "    return sum==n\n",
    "print(perfect_number(6))"
   ]
  },
  {
   "cell_type": "code",
   "execution_count": null,
   "metadata": {},
   "outputs": [],
   "source": []
  }
 ],
 "metadata": {
  "kernelspec": {
   "display_name": "Python 3",
   "language": "python",
   "name": "python3"
  },
  "language_info": {
   "codemirror_mode": {
    "name": "ipython",
    "version": 3
   },
   "file_extension": ".py",
   "mimetype": "text/x-python",
   "name": "python",
   "nbconvert_exporter": "python",
   "pygments_lexer": "ipython3",
   "version": "3.8.3"
  }
 },
 "nbformat": 4,
 "nbformat_minor": 4
}
