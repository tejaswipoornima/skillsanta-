{
 "cells": [
  {
   "cell_type": "markdown",
   "metadata": {},
   "source": [
    "# sample atm machine:"
   ]
  },
  {
   "cell_type": "code",
   "execution_count": 1,
   "metadata": {},
   "outputs": [
    {
     "name": "stdout",
     "output_type": "stream",
     "text": [
      "Enter your choice:\n",
      "1.Signin\n",
      "2.Signup\n",
      "3.Exit\n",
      "1\n",
      "Enter Account name:tejaswi\n",
      "Enter Password1820\n",
      "welcome teja\n",
      "enter your choice:\n",
      "1.check balance\n",
      "2.Deposit balance\n",
      "3.withdrawl\n",
      "4.logout\n",
      "1\n",
      "your balance: 20000\n",
      "enter your choice:\n",
      "1.check balance\n",
      "2.deposit balance\n",
      "3.withdrawl\n",
      "4.logout\n",
      "2\n",
      "deposit amount2000\n",
      "your current amount is: 22000\n",
      "enter your choice:\n",
      "1.check balance\n",
      "2.deposit balance\n",
      "3.withdrawl\n",
      "4.logout\n",
      "3\n",
      "enter withdraw amount2000\n",
      "collect your cash: 2000\n",
      "enter your choice:\n",
      "1.check balance\n",
      "2.deposit balance\n",
      "3.withdrawl\n",
      "4.logout\n",
      "4\n",
      "successfully logged out\n"
     ]
    }
   ],
   "source": [
    "database = {\n",
    "    'tejaswi': {\n",
    "        'name': 'teja',\n",
    "        'age': 20,\n",
    "        'email': 'tejaswi@gmail.com',\n",
    "        'password': 1820,\n",
    "        'balance': 20000,\n",
    "    },\n",
    "    'bhaavani': {\n",
    "        'name':'bhaavani',\n",
    "        'age': 18,\n",
    "        'email': 'bhaavani@gmail.com',\n",
    "        'password': 2202,\n",
    "        'balance': 40000,\n",
    "    },\n",
    "     'aruna': {\n",
    "        'name': 'aruna',\n",
    "        'age': 42,\n",
    "        'email': 'aruna@gmail.com',\n",
    "        'password': 1612,\n",
    "        'balance': 35000,\n",
    "    }\n",
    "}\n",
    "i=int(input(\"Enter your choice:\\n1.Signin\\n2.Signup\\n3.Exit\\n\"))\n",
    "if(i==1):\n",
    "    account=input(\"Enter Account name:\")\n",
    "    passkey=int(input(\"Enter Password\"))\n",
    "    if (account in database.keys() and passkey==database[account]['password']):\n",
    "        print(\"welcome\",database[account]['name'])\n",
    "        j=int(input(\"enter your choice:\\n1.check balance\\n2.Deposit balance\\n3.withdrawl\\n4.logout\\n\"))\n",
    "        while (j<5):\n",
    "            if(j==1):\n",
    "                print(\"your balance:\",database[account]['balance'])\n",
    "            elif(j==2):\n",
    "                y=int(input(\"deposit amount\"))\n",
    "                database[account]['balance']=database[account]['balance']+y\n",
    "                print(\"your current amount is:\",database[account]['balance'])\n",
    "            elif(j==3):\n",
    "                z=int(input(\"enter withdraw amount\"))\n",
    "                print(\"collect your cash:\",z)\n",
    "                database[account]['balance']=database[account]['balance']-z\n",
    "            else:\n",
    "                print(\"successfully logged out\")\n",
    "                break\n",
    "            j=int(input(\"enter your choice:\\n1.check balance\\n2.deposit balance\\n3.withdrawl\\n4.logout\\n\"))\n",
    "    else:\n",
    "        print(\"wrong password\")\n",
    "elif(i==2):\n",
    "    account=int(input(\"enter the account number:\"))\n",
    "    details=input(\"enter the fields:name,age,password,amount each seperated by coma and against colon\")\n",
    "    database[account]=details\n",
    "    print(database)\n",
    "    print(\"account is updated successfully\")\n",
    "else:\n",
    "    print(\"exited successfully\")"
   ]
  },
  {
   "cell_type": "code",
   "execution_count": null,
   "metadata": {},
   "outputs": [],
   "source": []
  }
 ],
 "metadata": {
  "kernelspec": {
   "display_name": "Python 3",
   "language": "python",
   "name": "python3"
  },
  "language_info": {
   "codemirror_mode": {
    "name": "ipython",
    "version": 3
   },
   "file_extension": ".py",
   "mimetype": "text/x-python",
   "name": "python",
   "nbconvert_exporter": "python",
   "pygments_lexer": "ipython3",
   "version": "3.8.3"
  }
 },
 "nbformat": 4,
 "nbformat_minor": 4
}
